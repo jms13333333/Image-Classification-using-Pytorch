{
  "cells": [
    {
      "cell_type": "code",
      "execution_count": null,
      "metadata": {
        "id": "ILYJK5c_fN8K"
      },
      "outputs": [],
      "source": [
        "from tqdm import tqdm\n",
        "import torch\n",
        "import torchvision\n",
        "from torchvision import transforms, datasets\n",
        "\n",
        "from torch.utils.data.dataloader import DataLoader\n",
        "from torch.utils.data import random_split\n",
        "import torch.utils.data as data\n",
        "import torch.nn as nn\n",
        "import torch.nn.functional as F"
      ]
    },
    {
      "cell_type": "code",
      "execution_count": null,
      "metadata": {
        "id": "1w8lY4mgf2o1"
      },
      "outputs": [],
      "source": [
        "class CNN(nn.Module):\n",
        "    def __init__(self):\n",
        "        super().__init__()\n",
        "        self.cl = nn.Sequential(\n",
        "            nn.Conv2d(1, 16, kernel_size = 3, stride = 1, padding = 1),\n",
        "            nn.BatchNorm2d(16),\n",
        "            nn.ReLU(),\n",
        "            nn.Conv2d(16, 32, kernel_size = 3, stride = 1, padding = 1),\n",
        "            nn.BatchNorm2d(32),\n",
        "            nn.ReLU(),\n",
        "            nn.MaxPool2d(2,2),\n",
        "            nn.Dropout(),\n",
        "\n",
        "            nn.Conv2d(32, 64, kernel_size = 3, stride = 1, padding = 1),\n",
        "            nn.BatchNorm2d(64),\n",
        "            nn.ReLU(),\n",
        "            nn.Conv2d(64, 128, kernel_size = 3, stride = 1, padding = 1),\n",
        "            nn.BatchNorm2d(128),\n",
        "            nn.ReLU(),\n",
        "            nn.MaxPool2d(2,2),\n",
        "            nn.Dropout(),\n",
        "        )\n",
        "        self.fc = nn.Sequential(\n",
        "            nn.Flatten(),\n",
        "            nn.Linear(6272, 10) # 10 means num_labels\n",
        "        )\n",
        "\n",
        "    def forward(self, xb):\n",
        "        feat = self.cl(xb)\n",
        "        return self.fc(feat)"
      ]
    },
    {
      "cell_type": "code",
      "execution_count": null,
      "metadata": {
        "colab": {
          "base_uri": "https://localhost:8080/"
        },
        "id": "zZFnaP8cf9oD",
        "outputId": "7d85e17d-19e5-4e66-b7a4-13fabc4161c9"
      },
      "outputs": [
        {
          "output_type": "stream",
          "name": "stdout",
          "text": [
            "Training on cpu\n"
          ]
        }
      ],
      "source": [
        "def accuracy(outputs, labels):\n",
        "    _, preds = torch.max(outputs, dim=1)\n",
        "    return torch.tensor(torch.sum(preds == labels).item() / len(preds))\n",
        "\n",
        "device = torch.device(\"cuda:0\" if torch.cuda.is_available() else \"cpu\")\n",
        "print('Training on', device)"
      ]
    },
    {
      "cell_type": "code",
      "execution_count": null,
      "metadata": {
        "colab": {
          "base_uri": "https://localhost:8080/"
        },
        "id": "nFBp9O6YhOup",
        "outputId": "111bac72-1a4a-4245-d251-d36713367238"
      },
      "outputs": [
        {
          "output_type": "stream",
          "name": "stdout",
          "text": [
            "Downloading http://fashion-mnist.s3-website.eu-central-1.amazonaws.com/train-images-idx3-ubyte.gz\n",
            "Downloading http://fashion-mnist.s3-website.eu-central-1.amazonaws.com/train-images-idx3-ubyte.gz to data/FashionMNIST/raw/train-images-idx3-ubyte.gz\n"
          ]
        },
        {
          "output_type": "stream",
          "name": "stderr",
          "text": [
            "100%|██████████| 26421880/26421880 [00:02<00:00, 12504610.41it/s]\n"
          ]
        },
        {
          "output_type": "stream",
          "name": "stdout",
          "text": [
            "Extracting data/FashionMNIST/raw/train-images-idx3-ubyte.gz to data/FashionMNIST/raw\n",
            "\n",
            "Downloading http://fashion-mnist.s3-website.eu-central-1.amazonaws.com/train-labels-idx1-ubyte.gz\n",
            "Downloading http://fashion-mnist.s3-website.eu-central-1.amazonaws.com/train-labels-idx1-ubyte.gz to data/FashionMNIST/raw/train-labels-idx1-ubyte.gz\n"
          ]
        },
        {
          "output_type": "stream",
          "name": "stderr",
          "text": [
            "100%|██████████| 29515/29515 [00:00<00:00, 214686.11it/s]\n"
          ]
        },
        {
          "output_type": "stream",
          "name": "stdout",
          "text": [
            "Extracting data/FashionMNIST/raw/train-labels-idx1-ubyte.gz to data/FashionMNIST/raw\n",
            "\n",
            "Downloading http://fashion-mnist.s3-website.eu-central-1.amazonaws.com/t10k-images-idx3-ubyte.gz\n",
            "Downloading http://fashion-mnist.s3-website.eu-central-1.amazonaws.com/t10k-images-idx3-ubyte.gz to data/FashionMNIST/raw/t10k-images-idx3-ubyte.gz\n"
          ]
        },
        {
          "output_type": "stream",
          "name": "stderr",
          "text": [
            "100%|██████████| 4422102/4422102 [00:01<00:00, 3966289.75it/s]\n"
          ]
        },
        {
          "output_type": "stream",
          "name": "stdout",
          "text": [
            "Extracting data/FashionMNIST/raw/t10k-images-idx3-ubyte.gz to data/FashionMNIST/raw\n",
            "\n",
            "Downloading http://fashion-mnist.s3-website.eu-central-1.amazonaws.com/t10k-labels-idx1-ubyte.gz\n",
            "Downloading http://fashion-mnist.s3-website.eu-central-1.amazonaws.com/t10k-labels-idx1-ubyte.gz to data/FashionMNIST/raw/t10k-labels-idx1-ubyte.gz\n"
          ]
        },
        {
          "output_type": "stream",
          "name": "stderr",
          "text": [
            "100%|██████████| 5148/5148 [00:00<00:00, 4576574.18it/s]"
          ]
        },
        {
          "output_type": "stream",
          "name": "stdout",
          "text": [
            "Extracting data/FashionMNIST/raw/t10k-labels-idx1-ubyte.gz to data/FashionMNIST/raw\n",
            "\n",
            "Length of Train Data : 54000\n",
            "Length of Val Data : 6000\n"
          ]
        },
        {
          "output_type": "stream",
          "name": "stderr",
          "text": [
            "\n",
            "/usr/local/lib/python3.10/dist-packages/torch/utils/data/dataloader.py:558: UserWarning: This DataLoader will create 4 worker processes in total. Our suggested max number of worker in current system is 2, which is smaller than what this DataLoader is going to create. Please be aware that excessive worker creation might get DataLoader running slow or even freeze, lower the worker number to avoid potential slowness/freeze if necessary.\n",
            "  warnings.warn(_create_warning_msg(\n"
          ]
        }
      ],
      "source": [
        "train_data = datasets.FashionMNIST(\n",
        "    root=\"data\",\n",
        "    train=True,\n",
        "    download=True,\n",
        "    transform=transforms.ToTensor()\n",
        ")\n",
        "\n",
        "\n",
        "# split to train & val\n",
        "train_data_size = int(len(train_data) * 0.9)\n",
        "val_data_size = len(train_data) - train_data_size\n",
        "train_data, val_data = data.random_split(train_data, [train_data_size, val_data_size])\n",
        "\n",
        "# set batch size and load dataset into dataloader\n",
        "batch_size = 256\n",
        "\n",
        "print(f\"Length of Train Data : {len(train_data)}\")\n",
        "print(f\"Length of Val Data : {len(val_data)}\")\n",
        "\n",
        "train_dl = DataLoader(train_data, batch_size, shuffle = True, num_workers = 4, pin_memory = True)\n",
        "val_dl = DataLoader(val_data, batch_size*2, num_workers = 4, pin_memory = True)"
      ]
    },
    {
      "cell_type": "code",
      "execution_count": null,
      "metadata": {
        "id": "ZXgVX2n_hWoI"
      },
      "outputs": [],
      "source": [
        "model = CNN()\n",
        "model = model.to(device)\n",
        "\n",
        "# find best epoch, lr hyperparameter\n",
        "num_epochs = 20\n",
        "lr = 0.001\n",
        "optimizer = torch.optim.Adam(model.parameters(), lr)"
      ]
    },
    {
      "cell_type": "code",
      "execution_count": null,
      "metadata": {
        "colab": {
          "base_uri": "https://localhost:8080/"
        },
        "id": "dHJIhm-AhcxK",
        "outputId": "18122243-5ddb-43b3-d653-daef2ac78e29"
      },
      "outputs": [
        {
          "output_type": "stream",
          "name": "stderr",
          "text": [
            "100%|██████████| 211/211 [04:14<00:00,  1.21s/it]\n",
            "100%|██████████| 12/12 [00:12<00:00,  1.08s/it]\n"
          ]
        },
        {
          "output_type": "stream",
          "name": "stdout",
          "text": [
            "Epoch 0 \n",
            "Train Loss \t0.4054 Train Acc \t0.8333 \n",
            "Val Loss   \t0.3556 Val Acc   \t0.8750\n"
          ]
        },
        {
          "output_type": "stream",
          "name": "stderr",
          "text": [
            "100%|██████████| 211/211 [04:03<00:00,  1.15s/it]\n",
            "100%|██████████| 12/12 [00:13<00:00,  1.14s/it]\n"
          ]
        },
        {
          "output_type": "stream",
          "name": "stdout",
          "text": [
            "Epoch 1 \n",
            "Train Loss \t0.4198 Train Acc \t0.8458 \n",
            "Val Loss   \t0.3327 Val Acc   \t0.8859\n"
          ]
        },
        {
          "output_type": "stream",
          "name": "stderr",
          "text": [
            "100%|██████████| 211/211 [04:04<00:00,  1.16s/it]\n",
            "100%|██████████| 12/12 [00:11<00:00,  1.01it/s]\n"
          ]
        },
        {
          "output_type": "stream",
          "name": "stdout",
          "text": [
            "Epoch 2 \n",
            "Train Loss \t0.3479 Train Acc \t0.8708 \n",
            "Val Loss   \t0.2921 Val Acc   \t0.9049\n"
          ]
        },
        {
          "output_type": "stream",
          "name": "stderr",
          "text": [
            "100%|██████████| 211/211 [04:06<00:00,  1.17s/it]\n",
            "100%|██████████| 12/12 [00:13<00:00,  1.10s/it]\n"
          ]
        },
        {
          "output_type": "stream",
          "name": "stdout",
          "text": [
            "Epoch 3 \n",
            "Train Loss \t0.3426 Train Acc \t0.9125 \n",
            "Val Loss   \t0.2666 Val Acc   \t0.9103\n"
          ]
        },
        {
          "output_type": "stream",
          "name": "stderr",
          "text": [
            "100%|██████████| 211/211 [04:01<00:00,  1.14s/it]\n",
            "100%|██████████| 12/12 [00:12<00:00,  1.03s/it]\n"
          ]
        },
        {
          "output_type": "stream",
          "name": "stdout",
          "text": [
            "Epoch 4 \n",
            "Train Loss \t0.2939 Train Acc \t0.9000 \n",
            "Val Loss   \t0.3246 Val Acc   \t0.8832\n"
          ]
        },
        {
          "output_type": "stream",
          "name": "stderr",
          "text": [
            "100%|██████████| 211/211 [04:04<00:00,  1.16s/it]\n",
            "100%|██████████| 12/12 [00:12<00:00,  1.06s/it]\n"
          ]
        },
        {
          "output_type": "stream",
          "name": "stdout",
          "text": [
            "Epoch 5 \n",
            "Train Loss \t0.2700 Train Acc \t0.8792 \n",
            "Val Loss   \t0.2532 Val Acc   \t0.9158\n"
          ]
        },
        {
          "output_type": "stream",
          "name": "stderr",
          "text": [
            "100%|██████████| 211/211 [04:05<00:00,  1.16s/it]\n",
            "100%|██████████| 12/12 [00:12<00:00,  1.07s/it]\n"
          ]
        },
        {
          "output_type": "stream",
          "name": "stdout",
          "text": [
            "Epoch 6 \n",
            "Train Loss \t0.2871 Train Acc \t0.9042 \n",
            "Val Loss   \t0.2839 Val Acc   \t0.8967\n"
          ]
        },
        {
          "output_type": "stream",
          "name": "stderr",
          "text": [
            "100%|██████████| 211/211 [04:04<00:00,  1.16s/it]\n",
            "100%|██████████| 12/12 [00:11<00:00,  1.01it/s]\n"
          ]
        },
        {
          "output_type": "stream",
          "name": "stdout",
          "text": [
            "Epoch 7 \n",
            "Train Loss \t0.2461 Train Acc \t0.9125 \n",
            "Val Loss   \t0.2377 Val Acc   \t0.9212\n"
          ]
        },
        {
          "output_type": "stream",
          "name": "stderr",
          "text": [
            "100%|██████████| 211/211 [04:03<00:00,  1.15s/it]\n",
            "100%|██████████| 12/12 [00:12<00:00,  1.03s/it]\n"
          ]
        },
        {
          "output_type": "stream",
          "name": "stdout",
          "text": [
            "Epoch 8 \n",
            "Train Loss \t0.3070 Train Acc \t0.8875 \n",
            "Val Loss   \t0.2584 Val Acc   \t0.9049\n"
          ]
        },
        {
          "output_type": "stream",
          "name": "stderr",
          "text": [
            "100%|██████████| 211/211 [04:00<00:00,  1.14s/it]\n",
            "100%|██████████| 12/12 [00:12<00:00,  1.04s/it]\n"
          ]
        },
        {
          "output_type": "stream",
          "name": "stdout",
          "text": [
            "Epoch 9 \n",
            "Train Loss \t0.2168 Train Acc \t0.9292 \n",
            "Val Loss   \t0.3132 Val Acc   \t0.8832\n"
          ]
        },
        {
          "output_type": "stream",
          "name": "stderr",
          "text": [
            "100%|██████████| 211/211 [04:02<00:00,  1.15s/it]\n",
            "100%|██████████| 12/12 [00:12<00:00,  1.01s/it]\n"
          ]
        },
        {
          "output_type": "stream",
          "name": "stdout",
          "text": [
            "Epoch 10 \n",
            "Train Loss \t0.2269 Train Acc \t0.9167 \n",
            "Val Loss   \t0.2139 Val Acc   \t0.9239\n"
          ]
        },
        {
          "output_type": "stream",
          "name": "stderr",
          "text": [
            "100%|██████████| 211/211 [04:00<00:00,  1.14s/it]\n",
            "100%|██████████| 12/12 [00:12<00:00,  1.06s/it]\n"
          ]
        },
        {
          "output_type": "stream",
          "name": "stdout",
          "text": [
            "Epoch 11 \n",
            "Train Loss \t0.2132 Train Acc \t0.9292 \n",
            "Val Loss   \t0.2338 Val Acc   \t0.9158\n"
          ]
        },
        {
          "output_type": "stream",
          "name": "stderr",
          "text": [
            "100%|██████████| 211/211 [04:02<00:00,  1.15s/it]\n",
            "100%|██████████| 12/12 [00:12<00:00,  1.05s/it]\n"
          ]
        },
        {
          "output_type": "stream",
          "name": "stdout",
          "text": [
            "Epoch 12 \n",
            "Train Loss \t0.2556 Train Acc \t0.9042 \n",
            "Val Loss   \t0.2391 Val Acc   \t0.9103\n"
          ]
        },
        {
          "output_type": "stream",
          "name": "stderr",
          "text": [
            "100%|██████████| 211/211 [04:03<00:00,  1.15s/it]\n",
            "100%|██████████| 12/12 [00:12<00:00,  1.04s/it]\n"
          ]
        },
        {
          "output_type": "stream",
          "name": "stdout",
          "text": [
            "Epoch 13 \n",
            "Train Loss \t0.3210 Train Acc \t0.9000 \n",
            "Val Loss   \t0.2224 Val Acc   \t0.9185\n"
          ]
        },
        {
          "output_type": "stream",
          "name": "stderr",
          "text": [
            "100%|██████████| 211/211 [04:05<00:00,  1.16s/it]\n",
            "100%|██████████| 12/12 [00:12<00:00,  1.07s/it]\n"
          ]
        },
        {
          "output_type": "stream",
          "name": "stdout",
          "text": [
            "Epoch 14 \n",
            "Train Loss \t0.2588 Train Acc \t0.9208 \n",
            "Val Loss   \t0.2231 Val Acc   \t0.9185\n"
          ]
        },
        {
          "output_type": "stream",
          "name": "stderr",
          "text": [
            "100%|██████████| 211/211 [04:02<00:00,  1.15s/it]\n",
            "100%|██████████| 12/12 [00:11<00:00,  1.03it/s]\n"
          ]
        },
        {
          "output_type": "stream",
          "name": "stdout",
          "text": [
            "Epoch 15 \n",
            "Train Loss \t0.1654 Train Acc \t0.9333 \n",
            "Val Loss   \t0.2681 Val Acc   \t0.9076\n"
          ]
        },
        {
          "output_type": "stream",
          "name": "stderr",
          "text": [
            "100%|██████████| 211/211 [03:59<00:00,  1.14s/it]\n",
            "100%|██████████| 12/12 [00:12<00:00,  1.05s/it]\n"
          ]
        },
        {
          "output_type": "stream",
          "name": "stdout",
          "text": [
            "Epoch 16 \n",
            "Train Loss \t0.1327 Train Acc \t0.9375 \n",
            "Val Loss   \t0.2306 Val Acc   \t0.9076\n"
          ]
        },
        {
          "output_type": "stream",
          "name": "stderr",
          "text": [
            "100%|██████████| 211/211 [04:04<00:00,  1.16s/it]\n",
            "100%|██████████| 12/12 [00:11<00:00,  1.04it/s]\n"
          ]
        },
        {
          "output_type": "stream",
          "name": "stdout",
          "text": [
            "Epoch 17 \n",
            "Train Loss \t0.2534 Train Acc \t0.9042 \n",
            "Val Loss   \t0.1910 Val Acc   \t0.9375\n"
          ]
        },
        {
          "output_type": "stream",
          "name": "stderr",
          "text": [
            "100%|██████████| 211/211 [04:01<00:00,  1.14s/it]\n",
            "100%|██████████| 12/12 [00:12<00:00,  1.07s/it]\n"
          ]
        },
        {
          "output_type": "stream",
          "name": "stdout",
          "text": [
            "Epoch 18 \n",
            "Train Loss \t0.2773 Train Acc \t0.8917 \n",
            "Val Loss   \t0.1898 Val Acc   \t0.9212\n"
          ]
        },
        {
          "output_type": "stream",
          "name": "stderr",
          "text": [
            "100%|██████████| 211/211 [04:06<00:00,  1.17s/it]\n",
            "100%|██████████| 12/12 [00:12<00:00,  1.03s/it]"
          ]
        },
        {
          "output_type": "stream",
          "name": "stdout",
          "text": [
            "Epoch 19 \n",
            "Train Loss \t0.2386 Train Acc \t0.9000 \n",
            "Val Loss   \t0.2149 Val Acc   \t0.9239\n"
          ]
        },
        {
          "output_type": "stream",
          "name": "stderr",
          "text": [
            "\n"
          ]
        }
      ],
      "source": [
        "# start training\n",
        "for epoch in range(num_epochs):\n",
        "\n",
        "    # training\n",
        "    model.train()\n",
        "    for images, labels in tqdm(train_dl):\n",
        "        optimizer.zero_grad()\n",
        "        images = images.to(device)\n",
        "        labels = labels.to(device)\n",
        "        out = model(images)                  # Generate predictions\n",
        "        train_loss = F.cross_entropy(out, labels) # Calculate loss\n",
        "        train_acc = accuracy(out, labels)\n",
        "        train_loss.backward()\n",
        "        optimizer.step()\n",
        "\n",
        "    # validation\n",
        "    model.eval()\n",
        "    for images, labels in tqdm(val_dl):\n",
        "        images = images.to(device)\n",
        "        labels = labels.to(device)\n",
        "        out = model(images)                    # Generate predictions\n",
        "        val_loss = F.cross_entropy(out, labels)   # Calculate loss\n",
        "        val_acc = accuracy(out, labels)           # Calculate accuracy\n",
        "\n",
        "    print('Epoch', epoch, '\\nTrain Loss', f'\\t{train_loss.item():.4f}', 'Train Acc', f'\\t{train_acc.item():.4f}', '\\nVal Loss  ', f'\\t{val_loss.item():.4f}', 'Val Acc  ', f'\\t{val_acc.item():.4f}')"
      ]
    }
  ],
  "metadata": {
    "colab": {
      "provenance": [],
      "name": "Image_Classification.ipynb",
      "authorship_tag": "ABX9TyOOcXsGcDbd0PeBOoIJMO4P"
    },
    "kernelspec": {
      "display_name": "Python 3",
      "name": "python3"
    },
    "language_info": {
      "name": "python"
    }
  },
  "nbformat": 4,
  "nbformat_minor": 0
}